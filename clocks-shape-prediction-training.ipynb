{
 "cells": [
  {
   "cell_type": "code",
   "execution_count": 4,
   "metadata": {},
   "outputs": [],
   "source": [
    "import dlib"
   ]
  },
  {
   "cell_type": "code",
   "execution_count": 5,
   "metadata": {},
   "outputs": [],
   "source": [
    "training_options = dlib.shape_predictor_training_options()\n",
    "\n",
    "training_options.be_verbose = True"
   ]
  },
  {
   "cell_type": "code",
   "execution_count": 6,
   "metadata": {},
   "outputs": [
    {
     "name": "stdout",
     "output_type": "stream",
     "text": [
      "Training with cascade depth: 10\n",
      "Training with tree depth: 4\n",
      "Training with 500 trees per cascade level.\n",
      "Training with nu: 0.1\n",
      "Training with random seed: \n",
      "Training with oversampling amount: 20\n",
      "Training with oversampling translation jitter: 0\n",
      "Training with landmark_relative_padding_mode: 1\n",
      "Training with feature pool size: 400\n",
      "Training with feature pool region padding: 0\n",
      "Training with 0 threads.\n",
      "Training with lambda_param: 0.1\n",
      "Training with 20 split tests.\n",
      "Fitting trees...\n",
      "Progress: 998/5000 (19.96%). Time remaining: 4 seconds.                 \n",
      "Training complete\n",
      "Training complete, saved predictor to file data/clock_point_detector.dat\n"
     ]
    }
   ],
   "source": [
    "dlib.train_shape_predictor(\"data/relogios_treino_pontos.xml\", \"data/clock_point_detector.dat\", training_options)"
   ]
  }
 ],
 "metadata": {
  "kernelspec": {
   "display_name": ".env",
   "language": "python",
   "name": "python3"
  },
  "language_info": {
   "codemirror_mode": {
    "name": "ipython",
    "version": 3
   },
   "file_extension": ".py",
   "mimetype": "text/x-python",
   "name": "python",
   "nbconvert_exporter": "python",
   "pygments_lexer": "ipython3",
   "version": "3.10.6"
  },
  "orig_nbformat": 4,
  "vscode": {
   "interpreter": {
    "hash": "e0b4732c41a37d8c793b6cc1917c40449e2f7b3e1255e0548c4acaccccd61364"
   }
  }
 },
 "nbformat": 4,
 "nbformat_minor": 2
}
