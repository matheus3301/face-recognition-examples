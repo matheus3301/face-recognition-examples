{
 "cells": [
  {
   "cell_type": "code",
   "execution_count": 3,
   "metadata": {},
   "outputs": [],
   "source": [
    "import os\n",
    "import glob\n",
    "import pickle5 as pickle\n",
    "import dlib\n",
    "import cv2 as cv\n",
    "import numpy as np\n",
    "import matplotlib.pyplot as plt\n",
    "from PIL import Image"
   ]
  },
  {
   "cell_type": "code",
   "execution_count": 4,
   "metadata": {},
   "outputs": [],
   "source": [
    "face_detector = dlib.get_frontal_face_detector()\n",
    "points_detector = dlib.shape_predictor(\"data/recursos/shape_predictor_68_face_landmarks.dat\")\n",
    "face_recognition = dlib.face_recognition_model_v1(\"data/recursos/dlib_face_recognition_resnet_model_v1.dat\")\n",
    "\n",
    "indexes = np.load(\"data/recursos/yalefaces_indexes.picke\", allow_pickle=True)\n",
    "facial_descriptors = np.load(\"data/recursos/yalefaces_descriptors.npy\")"
   ]
  },
  {
   "cell_type": "code",
   "execution_count": 5,
   "metadata": {},
   "outputs": [],
   "source": [
    "def mode(predictions) -> str:\n",
    "    idx = {}\n",
    "\n",
    "    mx_value, ans = 0, None\n",
    "\n",
    "    for prediction in predictions:\n",
    "        idx.get\n",
    "        if prediction not in idx:\n",
    "            idx[prediction] = 1\n",
    "        else:\n",
    "            idx[prediction] += 1\n",
    "\n",
    "    for key in idx:\n",
    "        if idx[key] > mx_value:\n",
    "            mx_value = idx[key]\n",
    "            ans = key\n",
    "\n",
    "    return ans\n",
    "    \n",
    "\n",
    "def knn(test, threshold = 0.5, k = 1):\n",
    "    dists = []\n",
    "\n",
    "    for i, sample in enumerate(facial_descriptors):\n",
    "        dist = np.linalg.norm(test - sample)\n",
    "        \n",
    "        dists.append((dist, indexes[i]))\n",
    "\n",
    "\n",
    "    dists.sort()\n",
    "    dists = dists[0:k]\n",
    "\n",
    "    predictions = [dist[1] for dist in dists if dist[0] <= threshold]\n",
    "\n",
    "    return mode(predictions)"
   ]
  },
  {
   "cell_type": "code",
   "execution_count": 6,
   "metadata": {},
   "outputs": [],
   "source": [
    "def get_person_name_by_img_name(img_name: str) -> str:\n",
    "    name = img_name.split(\"/\")[-1].split(\".\")[0]\n",
    "    return name"
   ]
  },
  {
   "cell_type": "code",
   "execution_count": 13,
   "metadata": {},
   "outputs": [
    {
     "name": "stdout",
     "output_type": "stream",
     "text": [
      "Total Number of Predictions: 30\n",
      "Total Number of Correct Predictions: 29\n",
      "Accuracy: 0.9667\n"
     ]
    }
   ],
   "source": [
    "correct_predictions = 0\n",
    "total_predictions = 0\n",
    "\n",
    "for img_file in glob.glob(os.path.join(\"data/yalefaces/teste\", \"*.gif\")):\n",
    "    img = Image.open(img_file).convert(\"RGB\")\n",
    "    img = np.array(img, dtype=np.uint8)\n",
    "    faces = face_detector(img, 2)\n",
    "    \n",
    "    total_predictions += 1\n",
    "\n",
    "    for face in faces:\n",
    "        face_points = points_detector(img, face)\n",
    "        face_descriptor = face_recognition.compute_face_descriptor(img, face_points)\n",
    "        img_face_descriptors = np.asarray([df for df in face_descriptor], dtype=np.float64)\n",
    "\n",
    "        prediction = knn(img_face_descriptors)\n",
    "        y = get_person_name_by_img_name(img_file)\n",
    "\n",
    "        if prediction == y:\n",
    "            correct_predictions += 1\n",
    "\n",
    "    #     x_min, y_max = face.tl_corner().x, face.tl_corner().y\n",
    "    #     x_max, y_min = face.br_corner().x, face.br_corner().y\n",
    "\n",
    "    #     cv.rectangle(img, (x_min, y_max), (x_max, y_min), (0,0,255), 1)\n",
    "    #     cv.putText(img, prediction, (x_min, max(y_max - 10,0)), cv.FONT_HERSHEY_COMPLEX_SMALL, 0.5, (0,0,255), 1, cv.LINE_AA)\n",
    "\n",
    "    # plt.imshow(cv.cvtColor(img, cv.COLOR_BGR2RGB))\n",
    "    # plt.show()\n",
    "\n",
    "accuracy = correct_predictions/total_predictions\n",
    "print(f\"Total Number of Predictions: {total_predictions}\")\n",
    "print(f\"Total Number of Correct Predictions: {correct_predictions}\")\n",
    "print(f\"Accuracy: {accuracy:.4f}\")"
   ]
  }
 ],
 "metadata": {
  "kernelspec": {
   "display_name": ".env",
   "language": "python",
   "name": "python3"
  },
  "language_info": {
   "codemirror_mode": {
    "name": "ipython",
    "version": 3
   },
   "file_extension": ".py",
   "mimetype": "text/x-python",
   "name": "python",
   "nbconvert_exporter": "python",
   "pygments_lexer": "ipython3",
   "version": "3.10.6"
  },
  "orig_nbformat": 4,
  "vscode": {
   "interpreter": {
    "hash": "e0b4732c41a37d8c793b6cc1917c40449e2f7b3e1255e0548c4acaccccd61364"
   }
  }
 },
 "nbformat": 4,
 "nbformat_minor": 2
}
