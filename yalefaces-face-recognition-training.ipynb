{
 "cells": [
  {
   "cell_type": "code",
   "execution_count": 1,
   "metadata": {},
   "outputs": [],
   "source": [
    "import os\n",
    "import glob\n",
    "import pickle5 as pickle\n",
    "import dlib\n",
    "import cv2 as cv\n",
    "import numpy as np\n",
    "from PIL import Image"
   ]
  },
  {
   "cell_type": "code",
   "execution_count": 2,
   "metadata": {},
   "outputs": [],
   "source": [
    "face_detector = dlib.get_frontal_face_detector()\n",
    "points_detector = dlib.shape_predictor(\"data/recursos/shape_predictor_68_face_landmarks.dat\")\n",
    "face_recognition = dlib.face_recognition_model_v1(\"data/recursos/dlib_face_recognition_resnet_model_v1.dat\")"
   ]
  },
  {
   "cell_type": "code",
   "execution_count": 3,
   "metadata": {},
   "outputs": [],
   "source": [
    "indexes = []\n",
    "all_imgs_face_descriptors = []"
   ]
  },
  {
   "cell_type": "code",
   "execution_count": 4,
   "metadata": {},
   "outputs": [],
   "source": [
    "def get_person_name_by_img_name(img_name: str) -> str:\n",
    "    name = img_name.split(\"/\")[-1].split(\".\")[0]\n",
    "    return name"
   ]
  },
  {
   "cell_type": "code",
   "execution_count": 5,
   "metadata": {},
   "outputs": [],
   "source": [
    "for img_file in glob.glob(os.path.join(\"data/yalefaces/treinamento\", \"*.gif\")):\n",
    "    # img = cv.imread(img_file)\n",
    "    img = Image.open(img_file).convert(\"RGB\")\n",
    "    img = np.array(img, dtype=np.uint8)\n",
    "    faces = face_detector(img, 1)\n",
    "\n",
    "    person = get_person_name_by_img_name(img_file)\n",
    "\n",
    "    if len(faces) != 1:\n",
    "        print(f\"# Could not use {img_file} on training\")\n",
    "\n",
    "    for face in faces:\n",
    "        face_points = points_detector(img, face)\n",
    "        face_descriptor = face_recognition.compute_face_descriptor(img, face_points)\n",
    "        img_face_descriptors = np.asarray([df for df in face_descriptor], dtype=np.float64)\n",
    "        all_imgs_face_descriptors.append(img_face_descriptors)\n",
    "        indexes.append(person)"
   ]
  },
  {
   "cell_type": "code",
   "execution_count": 6,
   "metadata": {},
   "outputs": [],
   "source": [
    "np.save(\"data/recursos/yalefaces_descriptors.npy\", np.array(all_imgs_face_descriptors))\n",
    "with open(\"data/recursos/yalefaces_indexes.picke\", 'wb') as f:\n",
    "    pickle.dump(indexes, f)"
   ]
  }
 ],
 "metadata": {
  "kernelspec": {
   "display_name": ".env",
   "language": "python",
   "name": "python3"
  },
  "language_info": {
   "codemirror_mode": {
    "name": "ipython",
    "version": 3
   },
   "file_extension": ".py",
   "mimetype": "text/x-python",
   "name": "python",
   "nbconvert_exporter": "python",
   "pygments_lexer": "ipython3",
   "version": "3.10.6"
  },
  "orig_nbformat": 4,
  "vscode": {
   "interpreter": {
    "hash": "e0b4732c41a37d8c793b6cc1917c40449e2f7b3e1255e0548c4acaccccd61364"
   }
  }
 },
 "nbformat": 4,
 "nbformat_minor": 2
}
